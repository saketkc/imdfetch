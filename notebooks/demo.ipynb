{
 "cells": [
  {
   "cell_type": "code",
   "execution_count": 1,
   "id": "9ea813f8-56b3-4eac-9f59-6f29925190cb",
   "metadata": {},
   "outputs": [
    {
     "name": "stdout",
     "output_type": "stream",
     "text": [
      "🏙️  Found 7 cities matching 'Mumbai':\n",
      "   📍 MUMBAI (SANTACRUZ) (A) (ID: 43003)\n",
      "   📍 MUMBAI (COLABA) (ID: 43057)\n",
      "   📍 MUMBAI-Borivali (ID: 99941)\n",
      "   📍 MUMBAI-Powai (ID: 99942)\n",
      "   📍 MUMBAI-Chembur (ID: 99943)\n",
      "   📍 MUMBAI-Mulund (ID: 99944)\n",
      "   📍 MUMBAI-Worli (ID: 99945)\n"
     ]
    }
   ],
   "source": [
    "!imdfetch search \"Mumbai\""
   ]
  },
  {
   "cell_type": "code",
   "execution_count": 3,
   "id": "1d2005ff-6aab-479b-8218-b9ff3047eeb5",
   "metadata": {},
   "outputs": [
    {
     "name": "stdout",
     "output_type": "stream",
     "text": [
      "🌤️ Current Weather for Mumbai-Colaba\n",
      "📅 Date: 27 May, 2025 (Tuesday)\n",
      "🌡️ Max Temperature: \u001b[93m26.8°C\u001b[0m\n",
      "🌡️ Min Temperature: \u001b[92m23.6°C\u001b[0m\n",
      "🌧️ 24h Rainfall (mm): 162\n",
      "💧 Relative Humidity at 08:30: \u001b[95m92.0%\u001b[0m\n",
      "💧 Relative Humidity at 17:30: \u001b[95m95.0%\u001b[0m\n"
     ]
    }
   ],
   "source": [
    "!imdfetch weather 43057"
   ]
  },
  {
   "cell_type": "code",
   "execution_count": 4,
   "id": "488ef13d-9c88-49ac-bd03-0c2923fa10b8",
   "metadata": {},
   "outputs": [
    {
     "name": "stdout",
     "output_type": "stream",
     "text": [
      "🌤️ Current Weather for Mumbai-Santacruz\n",
      "📅 Date: 27 May, 2025 (Tuesday)\n",
      "🌡️ Max Temperature: \u001b[93m27.8°C\u001b[0m\n",
      "🌡️ Min Temperature: \u001b[92m22.5°C\u001b[0m\n",
      "🌧️ 24h Rainfall (mm): 144\n",
      "💧 Relative Humidity at 08:30: \u001b[95m95.0%\u001b[0m\n",
      "💧 Relative Humidity at 17:30: \u001b[95m89.0%\u001b[0m\n"
     ]
    }
   ],
   "source": [
    "!imdfetch weather 43003"
   ]
  },
  {
   "cell_type": "code",
   "execution_count": 5,
   "id": "2ba67eaf-8f47-43e4-9bab-9d0cdf96f938",
   "metadata": {},
   "outputs": [
    {
     "name": "stdout",
     "output_type": "stream",
     "text": [
      "🔮 7-Day Weather Forecast for Mumbai-Santacruz\n",
      "📅 Forecast Date: 27 May, 2025 (Tuesday)\n",
      "--------------------------------------------------\n",
      "📅 27 May, 2025 (Tuesday)\n",
      "   🌡️  Temperature: \u001b[92m23.0°C\u001b[0m - \u001b[38;5;208m31.0°C\u001b[0m\n",
      "   🌤️  Forecast: Generally cloudy sky with Heavy rain\n",
      "   ⚠️  Warnings: Heavy Rainfall\n",
      "\n",
      "📅 28 May, 2025 (Wednesday)\n",
      "   🌡️  Temperature: \u001b[92m24.0°C\u001b[0m - \u001b[38;5;208m31.0°C\u001b[0m\n",
      "   🌤️  Forecast: Generally cloudy sky with Heavy rain\n",
      "   ⚠️  Warnings: Heavy Rainfall\n",
      "\n",
      "📅 29 May, 2025 (Thursday)\n",
      "   🌡️  Temperature: \u001b[92m24.0°C\u001b[0m - \u001b[38;5;208m32.0°C\u001b[0m\n",
      "   🌤️  Forecast: Generally cloudy sky with moderate rain\n",
      "   ⚠️  Warnings: No warning\n",
      "\n",
      "📅 30 May, 2025 (Friday)\n",
      "   🌡️  Temperature: \u001b[92m24.0°C\u001b[0m - \u001b[38;5;208m32.0°C\u001b[0m\n",
      "   🌤️  Forecast: Generally cloudy sky with moderate rain\n",
      "   ⚠️  Warnings: No warning\n",
      "\n",
      "📅 31 May, 2025 (Saturday)\n",
      "   🌡️  Temperature: \u001b[92m24.0°C\u001b[0m - \u001b[38;5;208m33.0°C\u001b[0m\n",
      "   🌤️  Forecast: Generally cloudy sky with moderate rain\n",
      "   ⚠️  Warnings: No warning\n",
      "\n",
      "📅 01 June, 2025 (Sunday)\n",
      "   🌡️  Temperature: \u001b[92m24.0°C\u001b[0m - \u001b[38;5;208m33.0°C\u001b[0m\n",
      "   🌤️  Forecast: Partly cloudy sky with possibility of rain or Thunderstorm\n",
      "   ⚠️  Warnings: No warning\n",
      "\n",
      "📅 02 June, 2025 (Monday)\n",
      "   🌡️  Temperature: \u001b[92m24.0°C\u001b[0m - \u001b[38;5;208m33.0°C\u001b[0m\n",
      "   🌤️  Forecast: Partly cloudy sky with possibility of rain or Thunderstorm\n",
      "   ⚠️  Warnings: No warning\n",
      "\n"
     ]
    }
   ],
   "source": [
    "!imdfetch forecast 43003"
   ]
  },
  {
   "cell_type": "code",
   "execution_count": 6,
   "id": "264cfef1-40a9-461a-aca9-b0643d64464a",
   "metadata": {},
   "outputs": [
    {
     "name": "stdout",
     "output_type": "stream",
     "text": [
      "🔮 7-Day Weather Forecast for Mumbai-Colaba\n",
      "📅 Forecast Date: 27 May, 2025 (Tuesday)\n",
      "--------------------------------------------------\n",
      "📅 27 May, 2025 (Tuesday)\n",
      "   🌡️  Temperature: \u001b[92m23.0°C\u001b[0m - \u001b[38;5;208m30.0°C\u001b[0m\n",
      "   🌤️  Forecast: Generally cloudy sky with Heavy rain\n",
      "   ⚠️  Warnings: Heavy Rainfall\n",
      "\n",
      "📅 28 May, 2025 (Wednesday)\n",
      "   🌡️  Temperature: \u001b[92m23.0°C\u001b[0m - \u001b[38;5;208m30.0°C\u001b[0m\n",
      "   🌤️  Forecast: Generally cloudy sky with Heavy rain\n",
      "   ⚠️  Warnings: Heavy Rainfall\n",
      "\n",
      "📅 29 May, 2025 (Thursday)\n",
      "   🌡️  Temperature: \u001b[92m24.0°C\u001b[0m - \u001b[38;5;208m31.0°C\u001b[0m\n",
      "   🌤️  Forecast: Generally cloudy sky with moderate rain\n",
      "   ⚠️  Warnings: No warning\n",
      "\n",
      "📅 30 May, 2025 (Friday)\n",
      "   🌡️  Temperature: \u001b[92m24.0°C\u001b[0m - \u001b[38;5;208m32.0°C\u001b[0m\n",
      "   🌤️  Forecast: Generally cloudy sky with moderate rain\n",
      "   ⚠️  Warnings: No warning\n",
      "\n",
      "📅 31 May, 2025 (Saturday)\n",
      "   🌡️  Temperature: \u001b[92m24.0°C\u001b[0m - \u001b[38;5;208m32.0°C\u001b[0m\n",
      "   🌤️  Forecast: Generally cloudy sky with moderate rain\n",
      "   ⚠️  Warnings: No warning\n",
      "\n",
      "📅 01 June, 2025 (Sunday)\n",
      "   🌡️  Temperature: \u001b[92m24.0°C\u001b[0m - \u001b[38;5;208m32.0°C\u001b[0m\n",
      "   🌤️  Forecast: Partly cloudy sky with possibility of rain or Thunderstorm\n",
      "   ⚠️  Warnings: No warning\n",
      "\n",
      "📅 02 June, 2025 (Monday)\n",
      "   🌡️  Temperature: \u001b[92m24.0°C\u001b[0m - \u001b[38;5;208m32.0°C\u001b[0m\n",
      "   🌤️  Forecast: Partly cloudy sky with possibility of rain or Thunderstorm\n",
      "   ⚠️  Warnings: No warning\n",
      "\n"
     ]
    }
   ],
   "source": [
    "!imdfetch forecast 43057"
   ]
  }
 ],
 "metadata": {
  "kernelspec": {
   "display_name": "Python [conda env:imdfetch]",
   "language": "python",
   "name": "conda-env-imdfetch-py"
  },
  "language_info": {
   "codemirror_mode": {
    "name": "ipython",
    "version": 3
   },
   "file_extension": ".py",
   "mimetype": "text/x-python",
   "name": "python",
   "nbconvert_exporter": "python",
   "pygments_lexer": "ipython3",
   "version": "3.13.2"
  }
 },
 "nbformat": 4,
 "nbformat_minor": 5
}
