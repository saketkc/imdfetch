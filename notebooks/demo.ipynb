{
 "cells": [
  {
   "cell_type": "markdown",
   "id": "886cd830-d757-41bd-9863-924ef232e974",
   "metadata": {},
   "source": [
    "# imdfetch command line demo"
   ]
  },
  {
   "cell_type": "code",
   "execution_count": 1,
   "id": "30ef4685-3742-4f9f-9ea3-74593574fdbe",
   "metadata": {},
   "outputs": [
    {
     "name": "stdout",
     "output_type": "stream",
     "text": [
      "Collecting git+https://github.com/saketlab/imdfetch\n",
      "  Cloning https://github.com/saketlab/imdfetch to /private/var/folders/gl/sfjd74gn0wv11h31lr8v2cj40000gn/T/pip-req-build-wzf4ys0f\n",
      "  Running command git clone --filter=blob:none --quiet https://github.com/saketlab/imdfetch /private/var/folders/gl/sfjd74gn0wv11h31lr8v2cj40000gn/T/pip-req-build-wzf4ys0f\n",
      "  Resolved https://github.com/saketlab/imdfetch to commit 3601e2b31ca1edec58217d611b461cbd89dcb96a\n",
      "  Installing build dependencies ... \u001b[?25ldone\n",
      "\u001b[?25h  Getting requirements to build wheel ... \u001b[?25ldone\n",
      "\u001b[?25h  Preparing metadata (pyproject.toml) ... \u001b[?25ldone\n",
      "\u001b[?25hRequirement already satisfied: requests>=2.25.0 in /Users/saket/miniconda3/envs/imdfetch/lib/python3.13/site-packages (from imdfetch==0.1.0) (2.32.3)\n",
      "Requirement already satisfied: beautifulsoup4>=4.9.0 in /Users/saket/miniconda3/envs/imdfetch/lib/python3.13/site-packages (from imdfetch==0.1.0) (4.13.4)\n",
      "Requirement already satisfied: pandas>=1.3.0 in /Users/saket/miniconda3/envs/imdfetch/lib/python3.13/site-packages (from imdfetch==0.1.0) (2.2.3)\n",
      "Requirement already satisfied: urllib3>=1.26.0 in /Users/saket/miniconda3/envs/imdfetch/lib/python3.13/site-packages (from imdfetch==0.1.0) (2.4.0)\n",
      "Requirement already satisfied: lxml>=4.6.0 in /Users/saket/miniconda3/envs/imdfetch/lib/python3.13/site-packages (from imdfetch==0.1.0) (5.4.0)\n",
      "Requirement already satisfied: soupsieve>1.2 in /Users/saket/miniconda3/envs/imdfetch/lib/python3.13/site-packages (from beautifulsoup4>=4.9.0->imdfetch==0.1.0) (2.7)\n",
      "Requirement already satisfied: typing-extensions>=4.0.0 in /Users/saket/miniconda3/envs/imdfetch/lib/python3.13/site-packages (from beautifulsoup4>=4.9.0->imdfetch==0.1.0) (4.13.2)\n",
      "Requirement already satisfied: numpy>=1.26.0 in /Users/saket/miniconda3/envs/imdfetch/lib/python3.13/site-packages (from pandas>=1.3.0->imdfetch==0.1.0) (2.2.6)\n",
      "Requirement already satisfied: python-dateutil>=2.8.2 in /Users/saket/miniconda3/envs/imdfetch/lib/python3.13/site-packages (from pandas>=1.3.0->imdfetch==0.1.0) (2.9.0.post0)\n",
      "Requirement already satisfied: pytz>=2020.1 in /Users/saket/miniconda3/envs/imdfetch/lib/python3.13/site-packages (from pandas>=1.3.0->imdfetch==0.1.0) (2025.2)\n",
      "Requirement already satisfied: tzdata>=2022.7 in /Users/saket/miniconda3/envs/imdfetch/lib/python3.13/site-packages (from pandas>=1.3.0->imdfetch==0.1.0) (2025.2)\n",
      "Requirement already satisfied: six>=1.5 in /Users/saket/miniconda3/envs/imdfetch/lib/python3.13/site-packages (from python-dateutil>=2.8.2->pandas>=1.3.0->imdfetch==0.1.0) (1.17.0)\n",
      "Requirement already satisfied: charset-normalizer<4,>=2 in /Users/saket/miniconda3/envs/imdfetch/lib/python3.13/site-packages (from requests>=2.25.0->imdfetch==0.1.0) (3.4.2)\n",
      "Requirement already satisfied: idna<4,>=2.5 in /Users/saket/miniconda3/envs/imdfetch/lib/python3.13/site-packages (from requests>=2.25.0->imdfetch==0.1.0) (3.10)\n",
      "Requirement already satisfied: certifi>=2017.4.17 in /Users/saket/miniconda3/envs/imdfetch/lib/python3.13/site-packages (from requests>=2.25.0->imdfetch==0.1.0) (2025.4.26)\n"
     ]
    }
   ],
   "source": [
    "!pip install git+https://github.com/saketlab/imdfetch"
   ]
  },
  {
   "cell_type": "markdown",
   "id": "1233dcd0-e2e9-4c02-bb52-718e0e99dc0a",
   "metadata": {},
   "source": [
    "## Features"
   ]
  },
  {
   "cell_type": "code",
   "execution_count": null,
   "id": "9ea813f8-56b3-4eac-9f59-6f29925190cb",
   "metadata": {},
   "outputs": [],
   "source": [
    "!imdfetch search \"Mumbai\""
   ]
  },
  {
   "cell_type": "code",
   "execution_count": null,
   "id": "1d2005ff-6aab-479b-8218-b9ff3047eeb5",
   "metadata": {},
   "outputs": [],
   "source": [
    "!imdfetch weather 43057"
   ]
  },
  {
   "cell_type": "code",
   "execution_count": null,
   "id": "488ef13d-9c88-49ac-bd03-0c2923fa10b8",
   "metadata": {},
   "outputs": [],
   "source": [
    "!imdfetch weather 43003"
   ]
  },
  {
   "cell_type": "code",
   "execution_count": null,
   "id": "a1cf8adc-b4e1-469f-b30e-8db3bc3c46e5",
   "metadata": {},
   "outputs": [],
   "source": [
    "!imdfetch weather \"Mumbai (Santacruz)\" --format json"
   ]
  },
  {
   "cell_type": "code",
   "execution_count": null,
   "id": "2ba67eaf-8f47-43e4-9bab-9d0cdf96f938",
   "metadata": {},
   "outputs": [],
   "source": [
    "!imdfetch forecast 43003"
   ]
  },
  {
   "cell_type": "code",
   "execution_count": null,
   "id": "4d88d9d0-d9fd-4e1b-8cdd-615321850f17",
   "metadata": {},
   "outputs": [],
   "source": [
    "!imdfetch forecast 43003 --format json"
   ]
  },
  {
   "cell_type": "code",
   "execution_count": null,
   "id": "264cfef1-40a9-461a-aca9-b0643d64464a",
   "metadata": {},
   "outputs": [],
   "source": [
    "!imdfetch forecast 43057"
   ]
  },
  {
   "cell_type": "code",
   "execution_count": null,
   "id": "7c3153d1-4b42-4c60-9f8d-a745152477bf",
   "metadata": {},
   "outputs": [],
   "source": [
    "!imdfetch search \"Kota\""
   ]
  },
  {
   "cell_type": "code",
   "execution_count": null,
   "id": "d64a3eb6-9a21-4283-b2f4-a759e2bc8ebb",
   "metadata": {},
   "outputs": [],
   "source": [
    "!imdfetch weather 42452"
   ]
  },
  {
   "cell_type": "code",
   "execution_count": null,
   "id": "72cda130-91dd-4b96-b469-4d1b958d38ac",
   "metadata": {},
   "outputs": [],
   "source": [
    "!imdfetch search \"Jaisal\""
   ]
  },
  {
   "cell_type": "code",
   "execution_count": null,
   "id": "cbfaf793-6f85-403b-818a-56985d0ca23a",
   "metadata": {},
   "outputs": [],
   "source": [
    "!imdfetch weather 42328"
   ]
  },
  {
   "cell_type": "code",
   "execution_count": null,
   "id": "9122cfe1-7640-4678-8efd-e63017b3985d",
   "metadata": {},
   "outputs": [],
   "source": [
    "!imdfetch forecast 42328"
   ]
  },
  {
   "cell_type": "code",
   "execution_count": null,
   "id": "8543354d-ff7a-4e40-ba8f-4e88fdb595ce",
   "metadata": {},
   "outputs": [],
   "source": [
    "!imdfetch cities --limit 0"
   ]
  }
 ],
 "metadata": {
  "kernelspec": {
   "display_name": "Python [conda env:base] *",
   "language": "python",
   "name": "conda-base-py"
  },
  "language_info": {
   "codemirror_mode": {
    "name": "ipython",
    "version": 3
   },
   "file_extension": ".py",
   "mimetype": "text/x-python",
   "name": "python",
   "nbconvert_exporter": "python",
   "pygments_lexer": "ipython3",
   "version": "3.11.12"
  }
 },
 "nbformat": 4,
 "nbformat_minor": 5
}
